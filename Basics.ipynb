{
 "cells": [
  {
   "cell_type": "markdown",
   "metadata": {},
   "source": [
    "# Used Cars on German eBay\n",
    "- The dataset comes from eBay Kleinanzeigen, a classified section of the German ebay website. It is only a sample of the original dataset consisting of 50,000 data points. \n",
    "- Some of the columns include: dateCrawled, name, seller, price, vehicleType, model, kilometer, brand \n",
    "- The data will be cleaned and analyzed."
   ]
  },
  {
   "cell_type": "code",
   "execution_count": 2,
   "metadata": {},
   "outputs": [],
   "source": [
    "import pandas as pd\n",
    "import numpy as np\n",
    "autos = pd.read_csv(\"autos.csv\", encoding='Latin-1')"
   ]
  },
  {
   "cell_type": "code",
   "execution_count": 3,
   "metadata": {},
   "outputs": [
    {
     "name": "stdout",
     "output_type": "stream",
     "text": [
      "<class 'pandas.core.frame.DataFrame'>\n",
      "RangeIndex: 50000 entries, 0 to 49999\n",
      "Data columns (total 20 columns):\n",
      "dateCrawled            50000 non-null object\n",
      "name                   50000 non-null object\n",
      "seller                 50000 non-null object\n",
      "offerType              50000 non-null object\n",
      "price                  50000 non-null object\n",
      "abtest                 50000 non-null object\n",
      "vehicleType            44905 non-null object\n",
      "yearOfRegistration     50000 non-null int64\n",
      "gearbox                47320 non-null object\n",
      "powerPS                50000 non-null int64\n",
      "model                  47242 non-null object\n",
      "odometer               50000 non-null object\n",
      "monthOfRegistration    50000 non-null int64\n",
      "fuelType               45518 non-null object\n",
      "brand                  50000 non-null object\n",
      "notRepairedDamage      40171 non-null object\n",
      "dateCreated            50000 non-null object\n",
      "nrOfPictures           50000 non-null int64\n",
      "postalCode             50000 non-null int64\n",
      "lastSeen               50000 non-null object\n",
      "dtypes: int64(5), object(15)\n",
      "memory usage: 7.6+ MB\n",
      "           dateCrawled                                               name  \\\n",
      "0  2016-03-26 17:47:46                   Peugeot_807_160_NAVTECH_ON_BOARD   \n",
      "1  2016-04-04 13:38:56         BMW_740i_4_4_Liter_HAMANN_UMBAU_Mega_Optik   \n",
      "2  2016-03-26 18:57:24                         Volkswagen_Golf_1.6_United   \n",
      "3  2016-03-12 16:58:10  Smart_smart_fortwo_coupe_softouch/F1/Klima/Pan...   \n",
      "4  2016-04-01 14:38:50  Ford_Focus_1_6_Benzin_TÜV_neu_ist_sehr_gepfleg...   \n",
      "5  2016-03-21 13:47:45  Chrysler_Grand_Voyager_2.8_CRD_Aut.Limited_Sto...   \n",
      "6  2016-03-20 17:55:21  VW_Golf_III_GT_Special_Electronic_Green_Metall...   \n",
      "7  2016-03-16 18:55:19                               Golf_IV_1.9_TDI_90PS   \n",
      "8  2016-03-22 16:51:34                                         Seat_Arosa   \n",
      "9  2016-03-16 13:47:02          Renault_Megane_Scenic_1.6e_RT_Klimaanlage   \n",
      "\n",
      "   seller offerType   price   abtest vehicleType  yearOfRegistration  \\\n",
      "0  privat   Angebot  $5,000  control         bus                2004   \n",
      "1  privat   Angebot  $8,500  control   limousine                1997   \n",
      "2  privat   Angebot  $8,990     test   limousine                2009   \n",
      "3  privat   Angebot  $4,350  control  kleinwagen                2007   \n",
      "4  privat   Angebot  $1,350     test       kombi                2003   \n",
      "5  privat   Angebot  $7,900     test         bus                2006   \n",
      "6  privat   Angebot    $300     test   limousine                1995   \n",
      "7  privat   Angebot  $1,990  control   limousine                1998   \n",
      "8  privat   Angebot    $250     test         NaN                2000   \n",
      "9  privat   Angebot    $590  control         bus                1997   \n",
      "\n",
      "     gearbox  powerPS    model   odometer  monthOfRegistration fuelType  \\\n",
      "0    manuell      158   andere  150,000km                    3      lpg   \n",
      "1  automatik      286      7er  150,000km                    6   benzin   \n",
      "2    manuell      102     golf   70,000km                    7   benzin   \n",
      "3  automatik       71   fortwo   70,000km                    6   benzin   \n",
      "4    manuell        0    focus  150,000km                    7   benzin   \n",
      "5  automatik      150  voyager  150,000km                    4   diesel   \n",
      "6    manuell       90     golf  150,000km                    8   benzin   \n",
      "7    manuell       90     golf  150,000km                   12   diesel   \n",
      "8    manuell        0    arosa  150,000km                   10      NaN   \n",
      "9    manuell       90   megane  150,000km                    7   benzin   \n",
      "\n",
      "        brand notRepairedDamage          dateCreated  nrOfPictures  \\\n",
      "0     peugeot              nein  2016-03-26 00:00:00             0   \n",
      "1         bmw              nein  2016-04-04 00:00:00             0   \n",
      "2  volkswagen              nein  2016-03-26 00:00:00             0   \n",
      "3       smart              nein  2016-03-12 00:00:00             0   \n",
      "4        ford              nein  2016-04-01 00:00:00             0   \n",
      "5    chrysler               NaN  2016-03-21 00:00:00             0   \n",
      "6  volkswagen               NaN  2016-03-20 00:00:00             0   \n",
      "7  volkswagen              nein  2016-03-16 00:00:00             0   \n",
      "8        seat              nein  2016-03-22 00:00:00             0   \n",
      "9     renault              nein  2016-03-16 00:00:00             0   \n",
      "\n",
      "   postalCode             lastSeen  \n",
      "0       79588  2016-04-06 06:45:54  \n",
      "1       71034  2016-04-06 14:45:08  \n",
      "2       35394  2016-04-06 20:15:37  \n",
      "3       33729  2016-03-15 03:16:28  \n",
      "4       39218  2016-04-01 14:38:50  \n",
      "5       22962  2016-04-06 09:45:21  \n",
      "6       31535  2016-03-23 02:48:59  \n",
      "7       53474  2016-04-07 03:17:32  \n",
      "8        7426  2016-03-26 18:18:10  \n",
      "9       15749  2016-04-06 10:46:35  \n"
     ]
    }
   ],
   "source": [
    "autos.info()\n",
    "print(autos.head(10))"
   ]
  },
  {
   "cell_type": "markdown",
   "metadata": {},
   "source": [
    "## Observations\n",
    "- There are numberous columns with null values.\n",
    "- The dataset is a mixture of strings and integers. Most of the data points are strings. Some of the columns, such as the odometer and price columns, are strings but would be more useful if changed to integers.\n",
    "- The name column is messy and would will most likely not be useful in an analysis.\n",
    "- The column names are not in written in the preferred style. "
   ]
  },
  {
   "cell_type": "code",
   "execution_count": 4,
   "metadata": {},
   "outputs": [
    {
     "name": "stdout",
     "output_type": "stream",
     "text": [
      "Index(['dateCrawled', 'name', 'seller', 'offerType', 'price', 'abtest',\n",
      "       'vehicleType', 'yearOfRegistration', 'gearbox', 'powerPS', 'model',\n",
      "       'odometer', 'monthOfRegistration', 'fuelType', 'brand',\n",
      "       'notRepairedDamage', 'dateCreated', 'nrOfPictures', 'postalCode',\n",
      "       'lastSeen'],\n",
      "      dtype='object')\n"
     ]
    }
   ],
   "source": [
    "print(autos.columns)"
   ]
  },
  {
   "cell_type": "code",
   "execution_count": 5,
   "metadata": {},
   "outputs": [
    {
     "name": "stdout",
     "output_type": "stream",
     "text": [
      "          date_crawled                                               name  \\\n",
      "0  2016-03-26 17:47:46                   Peugeot_807_160_NAVTECH_ON_BOARD   \n",
      "1  2016-04-04 13:38:56         BMW_740i_4_4_Liter_HAMANN_UMBAU_Mega_Optik   \n",
      "2  2016-03-26 18:57:24                         Volkswagen_Golf_1.6_United   \n",
      "3  2016-03-12 16:58:10  Smart_smart_fortwo_coupe_softouch/F1/Klima/Pan...   \n",
      "4  2016-04-01 14:38:50  Ford_Focus_1_6_Benzin_TÜV_neu_ist_sehr_gepfleg...   \n",
      "5  2016-03-21 13:47:45  Chrysler_Grand_Voyager_2.8_CRD_Aut.Limited_Sto...   \n",
      "6  2016-03-20 17:55:21  VW_Golf_III_GT_Special_Electronic_Green_Metall...   \n",
      "7  2016-03-16 18:55:19                               Golf_IV_1.9_TDI_90PS   \n",
      "8  2016-03-22 16:51:34                                         Seat_Arosa   \n",
      "9  2016-03-16 13:47:02          Renault_Megane_Scenic_1.6e_RT_Klimaanlage   \n",
      "\n",
      "   seller offer_type   price  ab_test vehicle_type  registration_year  \\\n",
      "0  privat    Angebot  $5,000  control          bus               2004   \n",
      "1  privat    Angebot  $8,500  control    limousine               1997   \n",
      "2  privat    Angebot  $8,990     test    limousine               2009   \n",
      "3  privat    Angebot  $4,350  control   kleinwagen               2007   \n",
      "4  privat    Angebot  $1,350     test        kombi               2003   \n",
      "5  privat    Angebot  $7,900     test          bus               2006   \n",
      "6  privat    Angebot    $300     test    limousine               1995   \n",
      "7  privat    Angebot  $1,990  control    limousine               1998   \n",
      "8  privat    Angebot    $250     test          NaN               2000   \n",
      "9  privat    Angebot    $590  control          bus               1997   \n",
      "\n",
      "     gearbox  power_ps    model   odometer  registration_month fuel_type  \\\n",
      "0    manuell       158   andere  150,000km                   3       lpg   \n",
      "1  automatik       286      7er  150,000km                   6    benzin   \n",
      "2    manuell       102     golf   70,000km                   7    benzin   \n",
      "3  automatik        71   fortwo   70,000km                   6    benzin   \n",
      "4    manuell         0    focus  150,000km                   7    benzin   \n",
      "5  automatik       150  voyager  150,000km                   4    diesel   \n",
      "6    manuell        90     golf  150,000km                   8    benzin   \n",
      "7    manuell        90     golf  150,000km                  12    diesel   \n",
      "8    manuell         0    arosa  150,000km                  10       NaN   \n",
      "9    manuell        90   megane  150,000km                   7    benzin   \n",
      "\n",
      "        brand unrepaired_damage           ad_created  num_of_pictures  \\\n",
      "0     peugeot              nein  2016-03-26 00:00:00                0   \n",
      "1         bmw              nein  2016-04-04 00:00:00                0   \n",
      "2  volkswagen              nein  2016-03-26 00:00:00                0   \n",
      "3       smart              nein  2016-03-12 00:00:00                0   \n",
      "4        ford              nein  2016-04-01 00:00:00                0   \n",
      "5    chrysler               NaN  2016-03-21 00:00:00                0   \n",
      "6  volkswagen               NaN  2016-03-20 00:00:00                0   \n",
      "7  volkswagen              nein  2016-03-16 00:00:00                0   \n",
      "8        seat              nein  2016-03-22 00:00:00                0   \n",
      "9     renault              nein  2016-03-16 00:00:00                0   \n",
      "\n",
      "   postal_code            last_seen  \n",
      "0        79588  2016-04-06 06:45:54  \n",
      "1        71034  2016-04-06 14:45:08  \n",
      "2        35394  2016-04-06 20:15:37  \n",
      "3        33729  2016-03-15 03:16:28  \n",
      "4        39218  2016-04-01 14:38:50  \n",
      "5        22962  2016-04-06 09:45:21  \n",
      "6        31535  2016-03-23 02:48:59  \n",
      "7        53474  2016-04-07 03:17:32  \n",
      "8         7426  2016-03-26 18:18:10  \n",
      "9        15749  2016-04-06 10:46:35  \n"
     ]
    }
   ],
   "source": [
    "cols = ['date_crawled', 'name', 'seller', 'offer_type', 'price', 'ab_test',\n",
    "       'vehicle_type', 'registration_year', 'gearbox', 'power_ps', 'model',\n",
    "       'odometer', 'registration_month', 'fuel_type', 'brand',\n",
    "       'unrepaired_damage', 'ad_created', 'num_of_pictures', 'postal_code',\n",
    "       'last_seen']\n",
    "autos.columns = cols\n",
    "print(autos.head(10))"
   ]
  },
  {
   "cell_type": "markdown",
   "metadata": {
    "collapsed": true
   },
   "source": [
    "### Changes to Column Names\n",
    "- Column names were changed from camelcase to snakecase to make them easier to work with in Python and for the sake of uniformity."
   ]
  },
  {
   "cell_type": "code",
   "execution_count": 6,
   "metadata": {},
   "outputs": [
    {
     "data": {
      "text/html": [
       "<div>\n",
       "<style scoped>\n",
       "    .dataframe tbody tr th:only-of-type {\n",
       "        vertical-align: middle;\n",
       "    }\n",
       "\n",
       "    .dataframe tbody tr th {\n",
       "        vertical-align: top;\n",
       "    }\n",
       "\n",
       "    .dataframe thead th {\n",
       "        text-align: right;\n",
       "    }\n",
       "</style>\n",
       "<table border=\"1\" class=\"dataframe\">\n",
       "  <thead>\n",
       "    <tr style=\"text-align: right;\">\n",
       "      <th></th>\n",
       "      <th>date_crawled</th>\n",
       "      <th>name</th>\n",
       "      <th>seller</th>\n",
       "      <th>offer_type</th>\n",
       "      <th>price</th>\n",
       "      <th>ab_test</th>\n",
       "      <th>vehicle_type</th>\n",
       "      <th>registration_year</th>\n",
       "      <th>gearbox</th>\n",
       "      <th>power_ps</th>\n",
       "      <th>model</th>\n",
       "      <th>odometer</th>\n",
       "      <th>registration_month</th>\n",
       "      <th>fuel_type</th>\n",
       "      <th>brand</th>\n",
       "      <th>unrepaired_damage</th>\n",
       "      <th>ad_created</th>\n",
       "      <th>num_of_pictures</th>\n",
       "      <th>postal_code</th>\n",
       "      <th>last_seen</th>\n",
       "    </tr>\n",
       "  </thead>\n",
       "  <tbody>\n",
       "    <tr>\n",
       "      <th>count</th>\n",
       "      <td>50000</td>\n",
       "      <td>50000</td>\n",
       "      <td>50000</td>\n",
       "      <td>50000</td>\n",
       "      <td>50000</td>\n",
       "      <td>50000</td>\n",
       "      <td>44905</td>\n",
       "      <td>50000.000000</td>\n",
       "      <td>47320</td>\n",
       "      <td>50000.000000</td>\n",
       "      <td>47242</td>\n",
       "      <td>50000</td>\n",
       "      <td>50000.000000</td>\n",
       "      <td>45518</td>\n",
       "      <td>50000</td>\n",
       "      <td>40171</td>\n",
       "      <td>50000</td>\n",
       "      <td>50000.0</td>\n",
       "      <td>50000.000000</td>\n",
       "      <td>50000</td>\n",
       "    </tr>\n",
       "    <tr>\n",
       "      <th>unique</th>\n",
       "      <td>48213</td>\n",
       "      <td>38754</td>\n",
       "      <td>2</td>\n",
       "      <td>2</td>\n",
       "      <td>2357</td>\n",
       "      <td>2</td>\n",
       "      <td>8</td>\n",
       "      <td>NaN</td>\n",
       "      <td>2</td>\n",
       "      <td>NaN</td>\n",
       "      <td>245</td>\n",
       "      <td>13</td>\n",
       "      <td>NaN</td>\n",
       "      <td>7</td>\n",
       "      <td>40</td>\n",
       "      <td>2</td>\n",
       "      <td>76</td>\n",
       "      <td>NaN</td>\n",
       "      <td>NaN</td>\n",
       "      <td>39481</td>\n",
       "    </tr>\n",
       "    <tr>\n",
       "      <th>top</th>\n",
       "      <td>2016-03-19 17:36:18</td>\n",
       "      <td>Ford_Fiesta</td>\n",
       "      <td>privat</td>\n",
       "      <td>Angebot</td>\n",
       "      <td>$0</td>\n",
       "      <td>test</td>\n",
       "      <td>limousine</td>\n",
       "      <td>NaN</td>\n",
       "      <td>manuell</td>\n",
       "      <td>NaN</td>\n",
       "      <td>golf</td>\n",
       "      <td>150,000km</td>\n",
       "      <td>NaN</td>\n",
       "      <td>benzin</td>\n",
       "      <td>volkswagen</td>\n",
       "      <td>nein</td>\n",
       "      <td>2016-04-03 00:00:00</td>\n",
       "      <td>NaN</td>\n",
       "      <td>NaN</td>\n",
       "      <td>2016-04-07 06:17:27</td>\n",
       "    </tr>\n",
       "    <tr>\n",
       "      <th>freq</th>\n",
       "      <td>3</td>\n",
       "      <td>78</td>\n",
       "      <td>49999</td>\n",
       "      <td>49999</td>\n",
       "      <td>1421</td>\n",
       "      <td>25756</td>\n",
       "      <td>12859</td>\n",
       "      <td>NaN</td>\n",
       "      <td>36993</td>\n",
       "      <td>NaN</td>\n",
       "      <td>4024</td>\n",
       "      <td>32424</td>\n",
       "      <td>NaN</td>\n",
       "      <td>30107</td>\n",
       "      <td>10687</td>\n",
       "      <td>35232</td>\n",
       "      <td>1946</td>\n",
       "      <td>NaN</td>\n",
       "      <td>NaN</td>\n",
       "      <td>8</td>\n",
       "    </tr>\n",
       "    <tr>\n",
       "      <th>mean</th>\n",
       "      <td>NaN</td>\n",
       "      <td>NaN</td>\n",
       "      <td>NaN</td>\n",
       "      <td>NaN</td>\n",
       "      <td>NaN</td>\n",
       "      <td>NaN</td>\n",
       "      <td>NaN</td>\n",
       "      <td>2005.073280</td>\n",
       "      <td>NaN</td>\n",
       "      <td>116.355920</td>\n",
       "      <td>NaN</td>\n",
       "      <td>NaN</td>\n",
       "      <td>5.723360</td>\n",
       "      <td>NaN</td>\n",
       "      <td>NaN</td>\n",
       "      <td>NaN</td>\n",
       "      <td>NaN</td>\n",
       "      <td>0.0</td>\n",
       "      <td>50813.627300</td>\n",
       "      <td>NaN</td>\n",
       "    </tr>\n",
       "    <tr>\n",
       "      <th>std</th>\n",
       "      <td>NaN</td>\n",
       "      <td>NaN</td>\n",
       "      <td>NaN</td>\n",
       "      <td>NaN</td>\n",
       "      <td>NaN</td>\n",
       "      <td>NaN</td>\n",
       "      <td>NaN</td>\n",
       "      <td>105.712813</td>\n",
       "      <td>NaN</td>\n",
       "      <td>209.216627</td>\n",
       "      <td>NaN</td>\n",
       "      <td>NaN</td>\n",
       "      <td>3.711984</td>\n",
       "      <td>NaN</td>\n",
       "      <td>NaN</td>\n",
       "      <td>NaN</td>\n",
       "      <td>NaN</td>\n",
       "      <td>0.0</td>\n",
       "      <td>25779.747957</td>\n",
       "      <td>NaN</td>\n",
       "    </tr>\n",
       "    <tr>\n",
       "      <th>min</th>\n",
       "      <td>NaN</td>\n",
       "      <td>NaN</td>\n",
       "      <td>NaN</td>\n",
       "      <td>NaN</td>\n",
       "      <td>NaN</td>\n",
       "      <td>NaN</td>\n",
       "      <td>NaN</td>\n",
       "      <td>1000.000000</td>\n",
       "      <td>NaN</td>\n",
       "      <td>0.000000</td>\n",
       "      <td>NaN</td>\n",
       "      <td>NaN</td>\n",
       "      <td>0.000000</td>\n",
       "      <td>NaN</td>\n",
       "      <td>NaN</td>\n",
       "      <td>NaN</td>\n",
       "      <td>NaN</td>\n",
       "      <td>0.0</td>\n",
       "      <td>1067.000000</td>\n",
       "      <td>NaN</td>\n",
       "    </tr>\n",
       "    <tr>\n",
       "      <th>25%</th>\n",
       "      <td>NaN</td>\n",
       "      <td>NaN</td>\n",
       "      <td>NaN</td>\n",
       "      <td>NaN</td>\n",
       "      <td>NaN</td>\n",
       "      <td>NaN</td>\n",
       "      <td>NaN</td>\n",
       "      <td>1999.000000</td>\n",
       "      <td>NaN</td>\n",
       "      <td>70.000000</td>\n",
       "      <td>NaN</td>\n",
       "      <td>NaN</td>\n",
       "      <td>3.000000</td>\n",
       "      <td>NaN</td>\n",
       "      <td>NaN</td>\n",
       "      <td>NaN</td>\n",
       "      <td>NaN</td>\n",
       "      <td>0.0</td>\n",
       "      <td>30451.000000</td>\n",
       "      <td>NaN</td>\n",
       "    </tr>\n",
       "    <tr>\n",
       "      <th>50%</th>\n",
       "      <td>NaN</td>\n",
       "      <td>NaN</td>\n",
       "      <td>NaN</td>\n",
       "      <td>NaN</td>\n",
       "      <td>NaN</td>\n",
       "      <td>NaN</td>\n",
       "      <td>NaN</td>\n",
       "      <td>2003.000000</td>\n",
       "      <td>NaN</td>\n",
       "      <td>105.000000</td>\n",
       "      <td>NaN</td>\n",
       "      <td>NaN</td>\n",
       "      <td>6.000000</td>\n",
       "      <td>NaN</td>\n",
       "      <td>NaN</td>\n",
       "      <td>NaN</td>\n",
       "      <td>NaN</td>\n",
       "      <td>0.0</td>\n",
       "      <td>49577.000000</td>\n",
       "      <td>NaN</td>\n",
       "    </tr>\n",
       "    <tr>\n",
       "      <th>75%</th>\n",
       "      <td>NaN</td>\n",
       "      <td>NaN</td>\n",
       "      <td>NaN</td>\n",
       "      <td>NaN</td>\n",
       "      <td>NaN</td>\n",
       "      <td>NaN</td>\n",
       "      <td>NaN</td>\n",
       "      <td>2008.000000</td>\n",
       "      <td>NaN</td>\n",
       "      <td>150.000000</td>\n",
       "      <td>NaN</td>\n",
       "      <td>NaN</td>\n",
       "      <td>9.000000</td>\n",
       "      <td>NaN</td>\n",
       "      <td>NaN</td>\n",
       "      <td>NaN</td>\n",
       "      <td>NaN</td>\n",
       "      <td>0.0</td>\n",
       "      <td>71540.000000</td>\n",
       "      <td>NaN</td>\n",
       "    </tr>\n",
       "    <tr>\n",
       "      <th>max</th>\n",
       "      <td>NaN</td>\n",
       "      <td>NaN</td>\n",
       "      <td>NaN</td>\n",
       "      <td>NaN</td>\n",
       "      <td>NaN</td>\n",
       "      <td>NaN</td>\n",
       "      <td>NaN</td>\n",
       "      <td>9999.000000</td>\n",
       "      <td>NaN</td>\n",
       "      <td>17700.000000</td>\n",
       "      <td>NaN</td>\n",
       "      <td>NaN</td>\n",
       "      <td>12.000000</td>\n",
       "      <td>NaN</td>\n",
       "      <td>NaN</td>\n",
       "      <td>NaN</td>\n",
       "      <td>NaN</td>\n",
       "      <td>0.0</td>\n",
       "      <td>99998.000000</td>\n",
       "      <td>NaN</td>\n",
       "    </tr>\n",
       "  </tbody>\n",
       "</table>\n",
       "</div>"
      ],
      "text/plain": [
       "               date_crawled         name  seller offer_type  price ab_test  \\\n",
       "count                 50000        50000   50000      50000  50000   50000   \n",
       "unique                48213        38754       2          2   2357       2   \n",
       "top     2016-03-19 17:36:18  Ford_Fiesta  privat    Angebot     $0    test   \n",
       "freq                      3           78   49999      49999   1421   25756   \n",
       "mean                    NaN          NaN     NaN        NaN    NaN     NaN   \n",
       "std                     NaN          NaN     NaN        NaN    NaN     NaN   \n",
       "min                     NaN          NaN     NaN        NaN    NaN     NaN   \n",
       "25%                     NaN          NaN     NaN        NaN    NaN     NaN   \n",
       "50%                     NaN          NaN     NaN        NaN    NaN     NaN   \n",
       "75%                     NaN          NaN     NaN        NaN    NaN     NaN   \n",
       "max                     NaN          NaN     NaN        NaN    NaN     NaN   \n",
       "\n",
       "       vehicle_type  registration_year  gearbox      power_ps  model  \\\n",
       "count         44905       50000.000000    47320  50000.000000  47242   \n",
       "unique            8                NaN        2           NaN    245   \n",
       "top       limousine                NaN  manuell           NaN   golf   \n",
       "freq          12859                NaN    36993           NaN   4024   \n",
       "mean            NaN        2005.073280      NaN    116.355920    NaN   \n",
       "std             NaN         105.712813      NaN    209.216627    NaN   \n",
       "min             NaN        1000.000000      NaN      0.000000    NaN   \n",
       "25%             NaN        1999.000000      NaN     70.000000    NaN   \n",
       "50%             NaN        2003.000000      NaN    105.000000    NaN   \n",
       "75%             NaN        2008.000000      NaN    150.000000    NaN   \n",
       "max             NaN        9999.000000      NaN  17700.000000    NaN   \n",
       "\n",
       "         odometer  registration_month fuel_type       brand unrepaired_damage  \\\n",
       "count       50000        50000.000000     45518       50000             40171   \n",
       "unique         13                 NaN         7          40                 2   \n",
       "top     150,000km                 NaN    benzin  volkswagen              nein   \n",
       "freq        32424                 NaN     30107       10687             35232   \n",
       "mean          NaN            5.723360       NaN         NaN               NaN   \n",
       "std           NaN            3.711984       NaN         NaN               NaN   \n",
       "min           NaN            0.000000       NaN         NaN               NaN   \n",
       "25%           NaN            3.000000       NaN         NaN               NaN   \n",
       "50%           NaN            6.000000       NaN         NaN               NaN   \n",
       "75%           NaN            9.000000       NaN         NaN               NaN   \n",
       "max           NaN           12.000000       NaN         NaN               NaN   \n",
       "\n",
       "                 ad_created  num_of_pictures   postal_code  \\\n",
       "count                 50000          50000.0  50000.000000   \n",
       "unique                   76              NaN           NaN   \n",
       "top     2016-04-03 00:00:00              NaN           NaN   \n",
       "freq                   1946              NaN           NaN   \n",
       "mean                    NaN              0.0  50813.627300   \n",
       "std                     NaN              0.0  25779.747957   \n",
       "min                     NaN              0.0   1067.000000   \n",
       "25%                     NaN              0.0  30451.000000   \n",
       "50%                     NaN              0.0  49577.000000   \n",
       "75%                     NaN              0.0  71540.000000   \n",
       "max                     NaN              0.0  99998.000000   \n",
       "\n",
       "                  last_seen  \n",
       "count                 50000  \n",
       "unique                39481  \n",
       "top     2016-04-07 06:17:27  \n",
       "freq                      8  \n",
       "mean                    NaN  \n",
       "std                     NaN  \n",
       "min                     NaN  \n",
       "25%                     NaN  \n",
       "50%                     NaN  \n",
       "75%                     NaN  \n",
       "max                     NaN  "
      ]
     },
     "execution_count": 6,
     "metadata": {},
     "output_type": "execute_result"
    }
   ],
   "source": [
    "autos.describe(include='all')"
   ]
  },
  {
   "cell_type": "markdown",
   "metadata": {},
   "source": [
    "## Observations\n",
    "- The 'seller' and 'offer_type' columns have mostly one value and could probably be dropped. The 'num_of_pictures' column has only one value and can be dropped.\n",
    "- 'registration_year', 'num_of_pictures', 'postal_code', 'power_ps', and 'registration_month' columns have no unique or top values, so they need to be investigated.\n",
    "- 'price' and 'odometer' columns are stored as text and must be changed to numeric data."
   ]
  },
  {
   "cell_type": "code",
   "execution_count": 7,
   "metadata": {},
   "outputs": [
    {
     "name": "stdout",
     "output_type": "stream",
     "text": [
      "['$5,000' '$8,500' '$8,990' ... '$385' '$22,200' '$16,995']\n",
      "['150,000km' '70,000km' '50,000km' '80,000km' '10,000km' '30,000km'\n",
      " '125,000km' '90,000km' '20,000km' '60,000km' '5,000km' '100,000km'\n",
      " '40,000km']\n"
     ]
    }
   ],
   "source": [
    "print(autos['price'].unique())\n",
    "print(autos['odometer'].unique())"
   ]
  },
  {
   "cell_type": "code",
   "execution_count": 8,
   "metadata": {},
   "outputs": [],
   "source": [
    "autos['price'] = (autos['price'].str.replace('$','').str.replace(',','').astype(int))\n",
    "autos['odometer'] = (autos['odometer'].str.replace('km','').str.replace(',','').astype(int))\n",
    "autos.rename({'price':'price_dollars'}, axis=1, inplace=True)\n",
    "autos.rename({'odometer':'odometer_km'}, axis=1, inplace=True)"
   ]
  },
  {
   "cell_type": "markdown",
   "metadata": {},
   "source": [
    "## Price and Odometer Column Cleanup\n",
    "- I removed the $ symbol and the commas from the 'price' column. Then I converted the values from strings to integers.\n",
    "- I removed 'km' and the commas from the 'odometer' column. Then I converted the values from strings to integers."
   ]
  },
  {
   "cell_type": "code",
   "execution_count": 10,
   "metadata": {},
   "outputs": [
    {
     "data": {
      "text/plain": [
       "count    5.000000e+04\n",
       "mean     9.840044e+03\n",
       "std      4.811044e+05\n",
       "min      0.000000e+00\n",
       "25%      1.100000e+03\n",
       "50%      2.950000e+03\n",
       "75%      7.200000e+03\n",
       "max      1.000000e+08\n",
       "Name: price_dollars, dtype: float64"
      ]
     },
     "execution_count": 10,
     "metadata": {},
     "output_type": "execute_result"
    }
   ],
   "source": [
    "autos['price_dollars'].describe()"
   ]
  },
  {
   "cell_type": "code",
   "execution_count": 11,
   "metadata": {},
   "outputs": [
    {
     "name": "stdout",
     "output_type": "stream",
     "text": [
      "0           1421\n",
      "1            156\n",
      "2              3\n",
      "3              1\n",
      "5              2\n",
      "8              1\n",
      "9              1\n",
      "10             7\n",
      "11             2\n",
      "12             3\n",
      "13             2\n",
      "14             1\n",
      "15             2\n",
      "17             3\n",
      "18             1\n",
      "20             4\n",
      "25             5\n",
      "29             1\n",
      "30             7\n",
      "35             1\n",
      "40             6\n",
      "45             4\n",
      "47             1\n",
      "49             4\n",
      "50            49\n",
      "55             2\n",
      "59             1\n",
      "60             9\n",
      "65             5\n",
      "66             1\n",
      "            ... \n",
      "151990         1\n",
      "155000         1\n",
      "163500         1\n",
      "163991         1\n",
      "169000         1\n",
      "169999         1\n",
      "175000         1\n",
      "180000         1\n",
      "190000         1\n",
      "194000         1\n",
      "197000         1\n",
      "198000         1\n",
      "220000         1\n",
      "250000         1\n",
      "259000         1\n",
      "265000         1\n",
      "295000         1\n",
      "299000         1\n",
      "345000         1\n",
      "350000         1\n",
      "999990         1\n",
      "999999         2\n",
      "1234566        1\n",
      "1300000        1\n",
      "3890000        1\n",
      "10000000       1\n",
      "11111111       2\n",
      "12345678       3\n",
      "27322222       1\n",
      "99999999       1\n",
      "Name: price_dollars, Length: 2357, dtype: int64\n"
     ]
    }
   ],
   "source": [
    "price_counts = autos['price_dollars'].value_counts()\n",
    "print(price_counts.sort_index(ascending=True))"
   ]
  },
  {
   "cell_type": "code",
   "execution_count": 12,
   "metadata": {},
   "outputs": [],
   "source": [
    "autos = autos[autos['price_dollars'].between(0,350000)]"
   ]
  },
  {
   "cell_type": "markdown",
   "metadata": {},
   "source": [
    "## Dropped Price Values\n",
    "- I dropped prices that were over 350,000 dollars because they seemed extremely high. The dropped price range is  999,990 to 99,999,999."
   ]
  },
  {
   "cell_type": "code",
   "execution_count": 13,
   "metadata": {},
   "outputs": [
    {
     "data": {
      "text/plain": [
       "count     49986.000000\n",
       "mean     125736.506222\n",
       "std       40038.133399\n",
       "min        5000.000000\n",
       "25%      125000.000000\n",
       "50%      150000.000000\n",
       "75%      150000.000000\n",
       "max      150000.000000\n",
       "Name: odometer_km, dtype: float64"
      ]
     },
     "execution_count": 13,
     "metadata": {},
     "output_type": "execute_result"
    }
   ],
   "source": [
    "autos['odometer_km'].describe()"
   ]
  },
  {
   "cell_type": "code",
   "execution_count": 14,
   "metadata": {
    "scrolled": true
   },
   "outputs": [
    {
     "name": "stdout",
     "output_type": "stream",
     "text": [
      "5000        966\n",
      "10000       264\n",
      "20000       784\n",
      "30000       789\n",
      "40000       818\n",
      "50000      1025\n",
      "60000      1164\n",
      "70000      1230\n",
      "80000      1436\n",
      "90000      1757\n",
      "100000     2168\n",
      "125000     5169\n",
      "150000    32416\n",
      "Name: odometer_km, dtype: int64\n"
     ]
    }
   ],
   "source": [
    "odometer_counts = autos['odometer_km'].value_counts()\n",
    "print(odometer_counts.sort_index(ascending=True))"
   ]
  },
  {
   "cell_type": "markdown",
   "metadata": {},
   "source": [
    "## Odometer Reading Obsertations\n",
    "- All of the odomter values (km) look reasonable, so no rows were removed."
   ]
  },
  {
   "cell_type": "code",
   "execution_count": 15,
   "metadata": {},
   "outputs": [
    {
     "name": "stdout",
     "output_type": "stream",
     "text": [
      "<class 'pandas.core.frame.DataFrame'>\n",
      "Int64Index: 49986 entries, 0 to 49999\n",
      "Data columns (total 20 columns):\n",
      "date_crawled          49986 non-null object\n",
      "name                  49986 non-null object\n",
      "seller                49986 non-null object\n",
      "offer_type            49986 non-null object\n",
      "price_dollars         49986 non-null int64\n",
      "ab_test               49986 non-null object\n",
      "vehicle_type          44894 non-null object\n",
      "registration_year     49986 non-null int64\n",
      "gearbox               47310 non-null object\n",
      "power_ps              49986 non-null int64\n",
      "model                 47233 non-null object\n",
      "odometer_km           49986 non-null int64\n",
      "registration_month    49986 non-null int64\n",
      "fuel_type             45509 non-null object\n",
      "brand                 49986 non-null object\n",
      "unrepaired_damage     40163 non-null object\n",
      "ad_created            49986 non-null object\n",
      "num_of_pictures       49986 non-null int64\n",
      "postal_code           49986 non-null int64\n",
      "last_seen             49986 non-null object\n",
      "dtypes: int64(7), object(13)\n",
      "memory usage: 8.0+ MB\n"
     ]
    }
   ],
   "source": [
    "autos.info()"
   ]
  },
  {
   "cell_type": "code",
   "execution_count": 15,
   "metadata": {},
   "outputs": [
    {
     "data": {
      "text/html": [
       "<div>\n",
       "<style scoped>\n",
       "    .dataframe tbody tr th:only-of-type {\n",
       "        vertical-align: middle;\n",
       "    }\n",
       "\n",
       "    .dataframe tbody tr th {\n",
       "        vertical-align: top;\n",
       "    }\n",
       "\n",
       "    .dataframe thead th {\n",
       "        text-align: right;\n",
       "    }\n",
       "</style>\n",
       "<table border=\"1\" class=\"dataframe\">\n",
       "  <thead>\n",
       "    <tr style=\"text-align: right;\">\n",
       "      <th></th>\n",
       "      <th>date_crawled</th>\n",
       "      <th>ad_created</th>\n",
       "      <th>last_seen</th>\n",
       "    </tr>\n",
       "  </thead>\n",
       "  <tbody>\n",
       "    <tr>\n",
       "      <th>0</th>\n",
       "      <td>2016-03-26 17:47:46</td>\n",
       "      <td>2016-03-26 00:00:00</td>\n",
       "      <td>2016-04-06 06:45:54</td>\n",
       "    </tr>\n",
       "    <tr>\n",
       "      <th>1</th>\n",
       "      <td>2016-04-04 13:38:56</td>\n",
       "      <td>2016-04-04 00:00:00</td>\n",
       "      <td>2016-04-06 14:45:08</td>\n",
       "    </tr>\n",
       "    <tr>\n",
       "      <th>2</th>\n",
       "      <td>2016-03-26 18:57:24</td>\n",
       "      <td>2016-03-26 00:00:00</td>\n",
       "      <td>2016-04-06 20:15:37</td>\n",
       "    </tr>\n",
       "    <tr>\n",
       "      <th>3</th>\n",
       "      <td>2016-03-12 16:58:10</td>\n",
       "      <td>2016-03-12 00:00:00</td>\n",
       "      <td>2016-03-15 03:16:28</td>\n",
       "    </tr>\n",
       "    <tr>\n",
       "      <th>4</th>\n",
       "      <td>2016-04-01 14:38:50</td>\n",
       "      <td>2016-04-01 00:00:00</td>\n",
       "      <td>2016-04-01 14:38:50</td>\n",
       "    </tr>\n",
       "  </tbody>\n",
       "</table>\n",
       "</div>"
      ],
      "text/plain": [
       "          date_crawled           ad_created            last_seen\n",
       "0  2016-03-26 17:47:46  2016-03-26 00:00:00  2016-04-06 06:45:54\n",
       "1  2016-04-04 13:38:56  2016-04-04 00:00:00  2016-04-06 14:45:08\n",
       "2  2016-03-26 18:57:24  2016-03-26 00:00:00  2016-04-06 20:15:37\n",
       "3  2016-03-12 16:58:10  2016-03-12 00:00:00  2016-03-15 03:16:28\n",
       "4  2016-04-01 14:38:50  2016-04-01 00:00:00  2016-04-01 14:38:50"
      ]
     },
     "execution_count": 15,
     "metadata": {},
     "output_type": "execute_result"
    }
   ],
   "source": [
    "autos[['date_crawled', 'ad_created', 'last_seen']][0:5]"
   ]
  },
  {
   "cell_type": "markdown",
   "metadata": {},
   "source": [
    "## Date Columns\n",
    "- The 'date_crawled', 'ad_created', and 'last_seen' columns need cleaned a little before any aggregation can be done.\n",
    "- In order to do so, I will extract only the first 10 values of the string for each date, which will give us the year, month, and day in the following format: yyyy-mm-dd\n",
    "- Then I will determine the percentage of the ads created on each date."
   ]
  },
  {
   "cell_type": "code",
   "execution_count": 16,
   "metadata": {},
   "outputs": [
    {
     "data": {
      "text/plain": [
       "2016-03-05    0.025387\n",
       "2016-03-06    0.013944\n",
       "2016-03-07    0.035970\n",
       "2016-03-08    0.033269\n",
       "2016-03-09    0.033209\n",
       "2016-03-10    0.032129\n",
       "2016-03-11    0.032489\n",
       "2016-03-12    0.036770\n",
       "2016-03-13    0.015564\n",
       "2016-03-14    0.036630\n",
       "2016-03-15    0.033990\n",
       "2016-03-16    0.029508\n",
       "2016-03-17    0.031509\n",
       "2016-03-18    0.013064\n",
       "2016-03-19    0.034910\n",
       "2016-03-20    0.037831\n",
       "2016-03-21    0.037490\n",
       "2016-03-22    0.032909\n",
       "2016-03-23    0.032389\n",
       "2016-03-24    0.029108\n",
       "2016-03-25    0.031749\n",
       "2016-03-26    0.032489\n",
       "2016-03-27    0.031049\n",
       "2016-03-28    0.034850\n",
       "2016-03-29    0.034150\n",
       "2016-03-30    0.033629\n",
       "2016-03-31    0.031909\n",
       "2016-04-01    0.033809\n",
       "2016-04-02    0.035410\n",
       "2016-04-03    0.038691\n",
       "2016-04-04    0.036490\n",
       "2016-04-05    0.013104\n",
       "2016-04-06    0.003181\n",
       "2016-04-07    0.001420\n",
       "Name: date_crawled, dtype: float64"
      ]
     },
     "execution_count": 16,
     "metadata": {},
     "output_type": "execute_result"
    }
   ],
   "source": [
    "autos['date_crawled'] = autos['date_crawled'].str[:10]\n",
    "autos['date_crawled'].value_counts(normalize=True, dropna=False).sort_index()"
   ]
  },
  {
   "cell_type": "markdown",
   "metadata": {},
   "source": [
    "### Observations\n",
    "- Most of the dates crawled have a similar percentage of listings, around 3-3.5 percent. There are only a few outliers with values around 1-2 percent. "
   ]
  },
  {
   "cell_type": "code",
   "execution_count": 17,
   "metadata": {},
   "outputs": [
    {
     "data": {
      "text/plain": [
       "2015-06-11    0.000020\n",
       "2015-08-10    0.000020\n",
       "2015-09-09    0.000020\n",
       "2015-11-10    0.000020\n",
       "2015-12-05    0.000020\n",
       "2015-12-30    0.000020\n",
       "2016-01-03    0.000020\n",
       "2016-01-07    0.000020\n",
       "2016-01-10    0.000040\n",
       "2016-01-13    0.000020\n",
       "2016-01-14    0.000020\n",
       "2016-01-16    0.000020\n",
       "2016-01-22    0.000020\n",
       "2016-01-27    0.000060\n",
       "2016-01-29    0.000020\n",
       "2016-02-01    0.000020\n",
       "2016-02-02    0.000040\n",
       "2016-02-05    0.000040\n",
       "2016-02-07    0.000020\n",
       "2016-02-08    0.000020\n",
       "2016-02-09    0.000040\n",
       "2016-02-11    0.000020\n",
       "2016-02-12    0.000060\n",
       "2016-02-14    0.000040\n",
       "2016-02-16    0.000020\n",
       "2016-02-17    0.000020\n",
       "2016-02-18    0.000040\n",
       "2016-02-19    0.000060\n",
       "2016-02-20    0.000040\n",
       "2016-02-21    0.000060\n",
       "                ...   \n",
       "2016-03-09    0.033229\n",
       "2016-03-10    0.031869\n",
       "2016-03-11    0.032789\n",
       "2016-03-12    0.036610\n",
       "2016-03-13    0.016925\n",
       "2016-03-14    0.035230\n",
       "2016-03-15    0.033749\n",
       "2016-03-16    0.030008\n",
       "2016-03-17    0.031189\n",
       "2016-03-18    0.013724\n",
       "2016-03-19    0.033849\n",
       "2016-03-20    0.037871\n",
       "2016-03-21    0.037691\n",
       "2016-03-22    0.032769\n",
       "2016-03-23    0.032189\n",
       "2016-03-24    0.029088\n",
       "2016-03-25    0.031889\n",
       "2016-03-26    0.032569\n",
       "2016-03-27    0.030909\n",
       "2016-03-28    0.034970\n",
       "2016-03-29    0.034110\n",
       "2016-03-30    0.033449\n",
       "2016-03-31    0.031909\n",
       "2016-04-01    0.033809\n",
       "2016-04-02    0.035090\n",
       "2016-04-03    0.038931\n",
       "2016-04-04    0.036850\n",
       "2016-04-05    0.011843\n",
       "2016-04-06    0.003261\n",
       "2016-04-07    0.001280\n",
       "Name: ad_created, Length: 76, dtype: float64"
      ]
     },
     "execution_count": 17,
     "metadata": {},
     "output_type": "execute_result"
    }
   ],
   "source": [
    "autos['ad_created'] = autos['ad_created'].str[:10]\n",
    "autos['ad_created'].value_counts(normalize=True, dropna=False).sort_index()"
   ]
  },
  {
   "cell_type": "markdown",
   "metadata": {},
   "source": [
    "### Observations\n",
    "- There were, comparatively, very few adds created in 2015 or early 2016. In March of 2016, the percentage of adds jumps from around 0.006 percent to 3 percent. The percentage of adds stays around 3 percent until early April."
   ]
  },
  {
   "cell_type": "code",
   "execution_count": 18,
   "metadata": {},
   "outputs": [
    {
     "data": {
      "text/plain": [
       "2016-03-05    0.001080\n",
       "2016-03-06    0.004421\n",
       "2016-03-07    0.005362\n",
       "2016-03-08    0.007582\n",
       "2016-03-09    0.009843\n",
       "2016-03-10    0.010763\n",
       "2016-03-11    0.012524\n",
       "2016-03-12    0.023807\n",
       "2016-03-13    0.008983\n",
       "2016-03-14    0.012804\n",
       "2016-03-15    0.015884\n",
       "2016-03-16    0.016445\n",
       "2016-03-17    0.027928\n",
       "2016-03-18    0.007422\n",
       "2016-03-19    0.015744\n",
       "2016-03-20    0.020706\n",
       "2016-03-21    0.020726\n",
       "2016-03-22    0.021586\n",
       "2016-03-23    0.018585\n",
       "2016-03-24    0.019565\n",
       "2016-03-25    0.019205\n",
       "2016-03-26    0.016965\n",
       "2016-03-27    0.016024\n",
       "2016-03-28    0.020846\n",
       "2016-03-29    0.022326\n",
       "2016-03-30    0.024847\n",
       "2016-03-31    0.023827\n",
       "2016-04-01    0.023106\n",
       "2016-04-02    0.024887\n",
       "2016-04-03    0.025367\n",
       "2016-04-04    0.024627\n",
       "2016-04-05    0.124275\n",
       "2016-04-06    0.220982\n",
       "2016-04-07    0.130957\n",
       "Name: last_seen, dtype: float64"
      ]
     },
     "execution_count": 18,
     "metadata": {},
     "output_type": "execute_result"
    }
   ],
   "source": [
    "autos['last_seen'] = autos['last_seen'].str[:10]\n",
    "autos['last_seen'].value_counts(normalize=True, dropna=False).sort_index()"
   ]
  },
  {
   "cell_type": "markdown",
   "metadata": {},
   "source": [
    "### Observations\n",
    "- At the beginning of March the percentages of the last_seen values are relatively low, from 0.1 to 0.9 percent. For the rest of March and into the beginning of April the percentages gover around 1-2.5 percent. "
   ]
  },
  {
   "cell_type": "code",
   "execution_count": 19,
   "metadata": {},
   "outputs": [
    {
     "data": {
      "text/plain": [
       "count    49986.000000\n",
       "mean      2005.075721\n",
       "std        105.727161\n",
       "min       1000.000000\n",
       "25%       1999.000000\n",
       "50%       2003.000000\n",
       "75%       2008.000000\n",
       "max       9999.000000\n",
       "Name: registration_year, dtype: float64"
      ]
     },
     "execution_count": 19,
     "metadata": {},
     "output_type": "execute_result"
    }
   ],
   "source": [
    "autos['registration_year'].describe()"
   ]
  },
  {
   "cell_type": "markdown",
   "metadata": {},
   "source": [
    "## Observations\n",
    "- The 'registration_year' column contains some values that do not make sense. The minimum year is 1000, and the maximum value is 9999. So, some rows need to be removed.\n",
    "- Also, we need to check whether there are any registration years that are after the listing year, since this wouldn't make sense.\n",
    "- Any registration years outside the range 1900-2016 should be removed. Cars were not mass produced before the early 1900's, and it's very unlikely that someone would be selling a car that was owned before that time. Any dates after 2016 wouldn't make sense since a car cannot be registered before it appears on eBay and is sold. "
   ]
  },
  {
   "cell_type": "code",
   "execution_count": 20,
   "metadata": {},
   "outputs": [
    {
     "data": {
      "text/plain": [
       "2000    0.069852\n",
       "2005    0.062792\n",
       "1999    0.062438\n",
       "2004    0.057002\n",
       "2003    0.056794\n",
       "2006    0.056377\n",
       "2001    0.056273\n",
       "2002    0.052753\n",
       "1998    0.051087\n",
       "2007    0.047984\n",
       "2008    0.046464\n",
       "2009    0.043673\n",
       "1997    0.042236\n",
       "2011    0.034030\n",
       "2010    0.033260\n",
       "1996    0.030073\n",
       "2012    0.027553\n",
       "2016    0.027408\n",
       "1995    0.027324\n",
       "2013    0.016786\n",
       "2014    0.013850\n",
       "1994    0.013745\n",
       "1993    0.009268\n",
       "2015    0.008310\n",
       "1990    0.008226\n",
       "1992    0.008122\n",
       "1991    0.007414\n",
       "1989    0.003770\n",
       "1988    0.002957\n",
       "1985    0.002166\n",
       "          ...   \n",
       "1966    0.000458\n",
       "1977    0.000458\n",
       "1975    0.000396\n",
       "1969    0.000396\n",
       "1965    0.000354\n",
       "1964    0.000250\n",
       "1910    0.000187\n",
       "1963    0.000187\n",
       "1959    0.000146\n",
       "1961    0.000125\n",
       "1956    0.000104\n",
       "1958    0.000083\n",
       "1937    0.000083\n",
       "1962    0.000083\n",
       "1950    0.000062\n",
       "1954    0.000042\n",
       "1941    0.000042\n",
       "1934    0.000042\n",
       "1957    0.000042\n",
       "1951    0.000042\n",
       "1955    0.000042\n",
       "1931    0.000021\n",
       "1953    0.000021\n",
       "1943    0.000021\n",
       "1938    0.000021\n",
       "1939    0.000021\n",
       "1927    0.000021\n",
       "1929    0.000021\n",
       "1948    0.000021\n",
       "1952    0.000021\n",
       "Name: registration_year, Length: 78, dtype: float64"
      ]
     },
     "execution_count": 20,
     "metadata": {},
     "output_type": "execute_result"
    }
   ],
   "source": [
    "autos = autos[autos['registration_year'].between(1900,2016)]\n",
    "autos['registration_year'].value_counts(normalize=True)"
   ]
  },
  {
   "cell_type": "code",
   "execution_count": 21,
   "metadata": {},
   "outputs": [
    {
     "data": {
      "text/plain": [
       "count    48016.000000\n",
       "mean      2002.806002\n",
       "std          7.306212\n",
       "min       1910.000000\n",
       "25%       1999.000000\n",
       "50%       2003.000000\n",
       "75%       2008.000000\n",
       "max       2016.000000\n",
       "Name: registration_year, dtype: float64"
      ]
     },
     "execution_count": 21,
     "metadata": {},
     "output_type": "execute_result"
    }
   ],
   "source": [
    "autos['registration_year'].describe()"
   ]
  },
  {
   "cell_type": "markdown",
   "metadata": {},
   "source": [
    "## Observations about Registration Year\n",
    "- The lowest percentage for registration year is 1952, followed by 1948, 1926, 1927, 1939 ascending. The years with the highest percentages are 2000 (almost 7 percent), 2005 (6 percent), and 1999 (6 percent). \n",
    "- The highest percentages of registration years come from the 1990's and from the 2000's, which is not surprising. \n",
    "- Relatively speaking, very few of the cars listed were registered before the mid 1900's. \n",
    "- The minimum registration year is 1910 and the max is 2016. "
   ]
  },
  {
   "cell_type": "code",
   "execution_count": 22,
   "metadata": {},
   "outputs": [
    {
     "data": {
      "text/plain": [
       "volkswagen        0.212117\n",
       "bmw               0.110026\n",
       "opel              0.108172\n",
       "mercedes_benz     0.095364\n",
       "audi              0.086409\n",
       "ford              0.069768\n",
       "renault           0.047359\n",
       "peugeot           0.029532\n",
       "fiat              0.025866\n",
       "seat              0.018181\n",
       "skoda             0.016036\n",
       "mazda             0.015141\n",
       "nissan            0.015099\n",
       "smart             0.013912\n",
       "citroen           0.013912\n",
       "toyota            0.012475\n",
       "sonstige_autos    0.010892\n",
       "hyundai           0.009851\n",
       "volvo             0.009247\n",
       "mini              0.008643\n",
       "mitsubishi        0.008143\n",
       "honda             0.007852\n",
       "kia               0.007102\n",
       "alfa_romeo        0.006623\n",
       "porsche           0.006102\n",
       "suzuki            0.005915\n",
       "chevrolet         0.005706\n",
       "chrysler          0.003665\n",
       "dacia             0.002562\n",
       "daihatsu          0.002562\n",
       "jeep              0.002249\n",
       "subaru            0.002187\n",
       "land_rover        0.002041\n",
       "saab              0.001604\n",
       "jaguar            0.001583\n",
       "trabant           0.001562\n",
       "daewoo            0.001500\n",
       "rover             0.001354\n",
       "lancia            0.001083\n",
       "lada              0.000604\n",
       "Name: brand, dtype: float64"
      ]
     },
     "execution_count": 22,
     "metadata": {},
     "output_type": "execute_result"
    }
   ],
   "source": [
    "autos['brand'].value_counts(normalize=True)"
   ]
  },
  {
   "cell_type": "code",
   "execution_count": 23,
   "metadata": {},
   "outputs": [
    {
     "data": {
      "text/plain": [
       "count          48016\n",
       "unique            40\n",
       "top       volkswagen\n",
       "freq           10185\n",
       "Name: brand, dtype: object"
      ]
     },
     "execution_count": 23,
     "metadata": {},
     "output_type": "execute_result"
    }
   ],
   "source": [
    "autos['brand'].describe()"
   ]
  },
  {
   "cell_type": "markdown",
   "metadata": {},
   "source": [
    "### I will aggregate on all of the brands that make 1% or more of the ads. This includes 17 of the 40 brands."
   ]
  },
  {
   "cell_type": "code",
   "execution_count": 24,
   "metadata": {},
   "outputs": [
    {
     "name": "stdout",
     "output_type": "stream",
     "text": [
      "{'nissan': 4664.891034482758, 'sonstige_autos': 10805.078393881453, 'mercedes_benz': 8485.239571958942, 'skoda': 6334.91948051948, 'fiat': 2711.8011272141707, 'audi': 9093.65003615329, 'mazda': 4010.7716643741405, 'bmw': 8102.536248343744, 'citroen': 3699.935628742515, 'toyota': 5115.33388981636, 'volkswagen': 5231.081983308787, 'ford': 3652.095223880597, 'opel': 2876.716403542549, 'renault': 2395.4164467897976, 'seat': 4296.492554410081, 'smart': 3542.706586826347, 'peugeot': 3039.4682651622}\n"
     ]
    }
   ],
   "source": [
    "unique_brands = ['volkswagen', 'bmw', 'opel', 'mercedes_benz', 'audi', 'ford', 'renault',\n",
    "       'peugeot', 'fiat', 'seat', 'skoda', 'mazda', 'nissan', 'smart',\n",
    "       'citroen', 'toyota', 'sonstige_autos']\n",
    "brand_mean_prices = {}\n",
    "for i in unique_brands:\n",
    "    mean_price = autos['price_dollars'][autos['brand'] == i].mean()\n",
    "    brand_mean_prices[i] = mean_price\n",
    "print(brand_mean_prices)"
   ]
  },
  {
   "cell_type": "markdown",
   "metadata": {},
   "source": [
    "## Observations about Mean Brand Price\n",
    "- The average prices range from about 2,300 dollars to around 10,000 dollars.\n",
    "- Most Expensive Brands: Sonstige (m=10805), Audi (m=9030), BMW (m=8102), Mercedes (m=8485), and Skoda (m=6334).\n",
    "- Least Expensive Brands: Renault (m=2395), Fiat (m=2711), Opel (m=2876), Peugeot (m=3039), Smart (m=3542), Ford (m=3652), and Citroen (m=3699).\n",
    "- Mid-Range Brands: Toyota (m=5115), Nissan (m=4664), Volkswagen (m=5231), Seat (m=4296), and Mazda (m=4010)."
   ]
  },
  {
   "cell_type": "markdown",
   "metadata": {},
   "source": [
    "## The Plan\n",
    "- We want to calculate the mean mileage for each brand and then see if there is any discernible connection between mileage and mean price. "
   ]
  },
  {
   "cell_type": "code",
   "execution_count": 25,
   "metadata": {},
   "outputs": [
    {
     "name": "stdout",
     "output_type": "stream",
     "text": [
      "{'nissan': 118572.41379310345, 'sonstige_autos': 87466.53919694072, 'mercedes_benz': 130856.0821139987, 'skoda': 110954.54545454546, 'fiat': 116553.94524959743, 'audi': 129287.78018799711, 'mazda': 124745.5295735901, 'bmw': 132431.38368351315, 'citroen': 119580.8383233533, 'toyota': 115709.51585976628, 'volkswagen': 128724.10407461954, 'ford': 124068.65671641791, 'opel': 129223.14208702349, 'renault': 128183.81706244503, 'seat': 121563.57388316152, 'smart': 99595.80838323354, 'peugeot': 127136.81241184767}\n"
     ]
    }
   ],
   "source": [
    "unique_brands = ['volkswagen', 'bmw', 'opel', 'mercedes_benz', 'audi', 'ford', 'renault',\n",
    "       'peugeot', 'fiat', 'seat', 'skoda', 'mazda', 'nissan', 'smart',\n",
    "       'citroen', 'toyota', 'sonstige_autos']\n",
    "brand_mean_mileage = {}\n",
    "for i in unique_brands:\n",
    "    mean_mileage = autos['odometer_km'][autos['brand'] == i].mean()\n",
    "    brand_mean_mileage[i] = mean_mileage\n",
    "print(brand_mean_mileage)"
   ]
  },
  {
   "cell_type": "code",
   "execution_count": 40,
   "metadata": {},
   "outputs": [
    {
     "data": {
      "text/html": [
       "<div>\n",
       "<style scoped>\n",
       "    .dataframe tbody tr th:only-of-type {\n",
       "        vertical-align: middle;\n",
       "    }\n",
       "\n",
       "    .dataframe tbody tr th {\n",
       "        vertical-align: top;\n",
       "    }\n",
       "\n",
       "    .dataframe thead th {\n",
       "        text-align: right;\n",
       "    }\n",
       "</style>\n",
       "<table border=\"1\" class=\"dataframe\">\n",
       "  <thead>\n",
       "    <tr style=\"text-align: right;\">\n",
       "      <th></th>\n",
       "      <th>mean_prices</th>\n",
       "      <th>mean_mileage</th>\n",
       "    </tr>\n",
       "  </thead>\n",
       "  <tbody>\n",
       "    <tr>\n",
       "      <th>renault</th>\n",
       "      <td>2395.416447</td>\n",
       "      <td>128183.817062</td>\n",
       "    </tr>\n",
       "    <tr>\n",
       "      <th>fiat</th>\n",
       "      <td>2711.801127</td>\n",
       "      <td>116553.945250</td>\n",
       "    </tr>\n",
       "    <tr>\n",
       "      <th>opel</th>\n",
       "      <td>2876.716404</td>\n",
       "      <td>129223.142087</td>\n",
       "    </tr>\n",
       "    <tr>\n",
       "      <th>peugeot</th>\n",
       "      <td>3039.468265</td>\n",
       "      <td>127136.812412</td>\n",
       "    </tr>\n",
       "    <tr>\n",
       "      <th>smart</th>\n",
       "      <td>3542.706587</td>\n",
       "      <td>99595.808383</td>\n",
       "    </tr>\n",
       "    <tr>\n",
       "      <th>ford</th>\n",
       "      <td>3652.095224</td>\n",
       "      <td>124068.656716</td>\n",
       "    </tr>\n",
       "    <tr>\n",
       "      <th>citroen</th>\n",
       "      <td>3699.935629</td>\n",
       "      <td>119580.838323</td>\n",
       "    </tr>\n",
       "    <tr>\n",
       "      <th>mazda</th>\n",
       "      <td>4010.771664</td>\n",
       "      <td>124745.529574</td>\n",
       "    </tr>\n",
       "    <tr>\n",
       "      <th>seat</th>\n",
       "      <td>4296.492554</td>\n",
       "      <td>121563.573883</td>\n",
       "    </tr>\n",
       "    <tr>\n",
       "      <th>nissan</th>\n",
       "      <td>4664.891034</td>\n",
       "      <td>118572.413793</td>\n",
       "    </tr>\n",
       "    <tr>\n",
       "      <th>toyota</th>\n",
       "      <td>5115.333890</td>\n",
       "      <td>115709.515860</td>\n",
       "    </tr>\n",
       "    <tr>\n",
       "      <th>volkswagen</th>\n",
       "      <td>5231.081983</td>\n",
       "      <td>128724.104075</td>\n",
       "    </tr>\n",
       "    <tr>\n",
       "      <th>skoda</th>\n",
       "      <td>6334.919481</td>\n",
       "      <td>110954.545455</td>\n",
       "    </tr>\n",
       "    <tr>\n",
       "      <th>bmw</th>\n",
       "      <td>8102.536248</td>\n",
       "      <td>132431.383684</td>\n",
       "    </tr>\n",
       "    <tr>\n",
       "      <th>mercedes_benz</th>\n",
       "      <td>8485.239572</td>\n",
       "      <td>130856.082114</td>\n",
       "    </tr>\n",
       "    <tr>\n",
       "      <th>audi</th>\n",
       "      <td>9093.650036</td>\n",
       "      <td>129287.780188</td>\n",
       "    </tr>\n",
       "    <tr>\n",
       "      <th>sonstige_autos</th>\n",
       "      <td>10805.078394</td>\n",
       "      <td>87466.539197</td>\n",
       "    </tr>\n",
       "  </tbody>\n",
       "</table>\n",
       "</div>"
      ],
      "text/plain": [
       "                 mean_prices   mean_mileage\n",
       "renault          2395.416447  128183.817062\n",
       "fiat             2711.801127  116553.945250\n",
       "opel             2876.716404  129223.142087\n",
       "peugeot          3039.468265  127136.812412\n",
       "smart            3542.706587   99595.808383\n",
       "ford             3652.095224  124068.656716\n",
       "citroen          3699.935629  119580.838323\n",
       "mazda            4010.771664  124745.529574\n",
       "seat             4296.492554  121563.573883\n",
       "nissan           4664.891034  118572.413793\n",
       "toyota           5115.333890  115709.515860\n",
       "volkswagen       5231.081983  128724.104075\n",
       "skoda            6334.919481  110954.545455\n",
       "bmw              8102.536248  132431.383684\n",
       "mercedes_benz    8485.239572  130856.082114\n",
       "audi             9093.650036  129287.780188\n",
       "sonstige_autos  10805.078394   87466.539197"
      ]
     },
     "execution_count": 40,
     "metadata": {},
     "output_type": "execute_result"
    }
   ],
   "source": [
    "bmp_series = pd.Series(brand_mean_prices)\n",
    "bmm_series = pd.Series(brand_mean_mileage)\n",
    "\n",
    "df = pd.DataFrame(bmp_series, columns=['mean_prices'])\n",
    "df['mean_mileage'] = bmm_series\n",
    "df.sort_values('mean_prices')"
   ]
  },
  {
   "cell_type": "markdown",
   "metadata": {
    "collapsed": true
   },
   "source": [
    "## Observations about Mean Price and Mean Mileage by Top Brands\n",
    "- We might expect to see a pattern where higher mileage cars are priced lower on average, whereas lower mileage cars are priced higher. For the most part, we do not observe this pattern, at least at this level of analysis.\n",
    "- Some of the most expensive brands (Audi, Mercedes, BMW) have some of the highest milages (around 130,000 km). But this is not entirely surprising, since we might expect more expensive cars to be more reliable and to hold their value better at higher mileages.\n",
    "- One interesting outlier is Sonstige, which is the most expensive brand, but where the mileage is, on average, the lowest (87,466 miles). \n",
    "- Most of the mid-range cars have average mileages that range from about 115,000 to about 124,000. The exception is Volkswagen, which has an average mileage of 128,724.  \n",
    "- The lower-end cars are varied and range from around 99,500 to 129,000."
   ]
  },
  {
   "cell_type": "code",
   "execution_count": null,
   "metadata": {
    "collapsed": true
   },
   "outputs": [],
   "source": []
  }
 ],
 "metadata": {
  "kernelspec": {
   "display_name": "Python 3",
   "language": "python",
   "name": "python3"
  },
  "language_info": {
   "codemirror_mode": {
    "name": "ipython",
    "version": 3
   },
   "file_extension": ".py",
   "mimetype": "text/x-python",
   "name": "python",
   "nbconvert_exporter": "python",
   "pygments_lexer": "ipython3",
   "version": "3.6.4"
  }
 },
 "nbformat": 4,
 "nbformat_minor": 2
}
